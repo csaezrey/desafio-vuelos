{
 "cells": [
  {
   "cell_type": "code",
   "execution_count": null,
   "id": "64933270",
   "metadata": {},
   "outputs": [
    {
     "name": "stderr",
     "output_type": "stream",
     "text": [
      "Setting default log level to \"WARN\".\n",
      "To adjust logging level use sc.setLogLevel(newLevel). For SparkR, use setLogLevel(newLevel).\n"
     ]
    },
    {
     "name": "stdout",
     "output_type": "stream",
     "text": [
      "23/03/02 19:50:24 WARN NativeCodeLoader: Unable to load native-hadoop library for your platform... using builtin-java classes where applicable\n"
     ]
    }
   ],
   "source": [
    "from pyspark.sql import SparkSession\n",
    "spark = SparkSession.builder.appName(\"Prueba SQL-Python\").getOrCreate()"
   ]
  },
  {
   "cell_type": "code",
   "execution_count": null,
   "id": "d746c64d",
   "metadata": {},
   "outputs": [],
   "source": [
    "df_vuelos = spark.read.format(\"csv\").option(\"header\", \"true\").option(\"inferSchema\", \"true\").load(\"input/vuelos.csv\")\n",
    "df_pilotos = spark.read.format(\"csv\").option(\"header\", \"true\").option(\"inferSchema\", \"true\").load(\"input/pilotos.csv\")\n",
    "df_vuelos=df_vuelos.withColumnRenamed(\"Aerolínea\",\"Aerolinea\") \n",
    "\n",
    "\n",
    "df_vuelos.createOrReplaceTempView(\"vw_vuelos\")  # este es el nombre de la tabla\n",
    "df_pilotos.createOrReplaceTempView(\"vw_pilotos\")  # este es el nombre de la tabla"
   ]
  },
  {
   "cell_type": "code",
   "execution_count": null,
   "id": "7fa1f5e5",
   "metadata": {},
   "outputs": [
    {
     "name": "stdout",
     "output_type": "stream",
     "text": [
      "+-------------+---------+------+-------+------------------+------+\n",
      "|Codigo Piloto|Aerolinea|Origen|Destino|Minutos de retraso|OnTime|\n",
      "+-------------+---------+------+-------+------------------+------+\n",
      "|        43556|       10|   SAP|    HAJ|                40|  null|\n",
      "|        43557|        5|   MIA|    MIA|                30|  null|\n",
      "|        43558|        3|   FLL|    FLL|                20|  null|\n",
      "|        43559|        1|   TEG|    SAP|                 0|  null|\n",
      "|        43560|        1|   HAJ|    SAP|                50|  null|\n",
      "|        43561|        8|   HHN|    SAP|                20|  null|\n",
      "|        43562|        2|   SAP|    HAJ|               -30|  null|\n",
      "|        43563|        8|   MIA|    HHN|               -30|  null|\n",
      "|        43564|       10|   FLL|    SAP|               -30|  null|\n",
      "|        43565|        7|   TEG|    TEG|                 0|  null|\n",
      "|        43566|        4|   HAJ|    HAJ|               -70|  null|\n",
      "|        43567|        6|   HHN|    HHN|               -40|  null|\n",
      "|        43568|        4|   FLL|    SAP|                 0|  null|\n",
      "|        43569|        9|   TEG|    MIA|                 0|  null|\n",
      "|        43570|        6|   HAJ|    FLL|               -70|  null|\n",
      "|        43571|        5|   HHN|    SAP|               -50|  null|\n",
      "|        43572|        1|   SAP|    MIA|                 0|  null|\n",
      "|        43573|        5|   MIA|    FLL|                 0|  null|\n",
      "|        43556|        2|   FLL|    TEG|               -50|  null|\n",
      "|        43557|        9|   SAP|    HAJ|                40|  null|\n",
      "+-------------+---------+------+-------+------------------+------+\n",
      "only showing top 20 rows\n",
      "\n"
     ]
    }
   ],
   "source": [
    "# Se realiza la consulta usando directamente SQL como prueba\n",
    "spark.sql(\"SELECT * FROM vw_vuelos\").show()\n"
   ]
  },
  {
   "cell_type": "code",
   "execution_count": 4,
   "id": "f6a75a2d",
   "metadata": {},
   "outputs": [
    {
     "name": "stdout",
     "output_type": "stream",
     "text": [
      "+-------------+---------------+\n",
      "|Codigo Piloto|         Piloto|\n",
      "+-------------+---------------+\n",
      "|        43556|       John Max|\n",
      "|        43557|   Jilles Vlank|\n",
      "|        43558|    Jorge Mej�a|\n",
      "|        43559|David Colindres|\n",
      "|        43560|Maximilian Call|\n",
      "|        43561|   Muilin Mills|\n",
      "|        43562|    Gianni Falk|\n",
      "|        43563|       Hous Hih|\n",
      "|        43564|       Cho Ming|\n",
      "|        43565|        Chao Ma|\n",
      "|        43566|     Jos� Perez|\n",
      "|        43567|    Davie Mixal|\n",
      "|        43568|     Filg Gills|\n",
      "|        43569|       Hung Cho|\n",
      "|        43570|     Filen Filg|\n",
      "|        43571| Arthur Maxwell|\n",
      "|        43572| Carlos Miranda|\n",
      "|        43573|  Denis Tercero|\n",
      "|        43574|   David German|\n",
      "|        43575|   Charles Moll|\n",
      "+-------------+---------------+\n",
      "only showing top 20 rows\n",
      "\n"
     ]
    }
   ],
   "source": [
    "# Se realiza la consulta usando directamente SQL como prueba\n",
    "spark.sql(\"SELECT * FROM vw_pilotos\").show()\n"
   ]
  },
  {
   "attachments": {},
   "cell_type": "markdown",
   "id": "7adcd6a1",
   "metadata": {},
   "source": [
    "# SQL\n",
    "#### Para todas las consultas se puede agregar un limit 1, sin embargo, para poder contrastar un poco la data se decide traer todo."
   ]
  },
  {
   "cell_type": "markdown",
   "id": "42561fab",
   "metadata": {},
   "source": [
    "#### ¿Qué aerolínea tiene más vuelos?"
   ]
  },
  {
   "cell_type": "code",
   "execution_count": 5,
   "id": "a59bab29",
   "metadata": {},
   "outputs": [
    {
     "name": "stdout",
     "output_type": "stream",
     "text": [
      "+---------+--------+\n",
      "|Aerolinea|count(1)|\n",
      "+---------+--------+\n",
      "|        7|     457|\n",
      "|        5|     448|\n",
      "|        3|     443|\n",
      "|        9|     435|\n",
      "|        1|     431|\n",
      "|        6|     430|\n",
      "|        8|     420|\n",
      "|        2|     417|\n",
      "|       10|     413|\n",
      "|        4|     408|\n",
      "+---------+--------+\n",
      "\n"
     ]
    }
   ],
   "source": [
    "spark.sql(\"SELECT Aerolinea, count(1) FROM vw_vuelos GROUP BY 1 ORDER BY 2 DESC\").show()"
   ]
  },
  {
   "cell_type": "markdown",
   "id": "775ef6b4",
   "metadata": {},
   "source": [
    "#### ¿Qué Origen se repite más?"
   ]
  },
  {
   "cell_type": "code",
   "execution_count": 6,
   "id": "c0fcca3a",
   "metadata": {},
   "outputs": [
    {
     "name": "stdout",
     "output_type": "stream",
     "text": [
      "+------+--------+\n",
      "|Origen|count(1)|\n",
      "+------+--------+\n",
      "|   SAP|    1404|\n",
      "|   FLL|     681|\n",
      "|   MIA|     649|\n",
      "|   HAJ|     644|\n",
      "|   TEG|     489|\n",
      "|   HHN|     435|\n",
      "+------+--------+\n",
      "\n"
     ]
    }
   ],
   "source": [
    "spark.sql(\"SELECT Origen, count(1) FROM vw_vuelos GROUP BY 1 ORDER BY 2 DESC\").show()"
   ]
  },
  {
   "cell_type": "markdown",
   "id": "ddfdca0c",
   "metadata": {},
   "source": [
    "#### ¿Desde donde vuela más la aerolínea 8?"
   ]
  },
  {
   "cell_type": "code",
   "execution_count": 7,
   "id": "73d01de0",
   "metadata": {},
   "outputs": [
    {
     "name": "stdout",
     "output_type": "stream",
     "text": [
      "+------+--------+\n",
      "|Origen|count(1)|\n",
      "+------+--------+\n",
      "|   SAP|     134|\n",
      "|   HAJ|      68|\n",
      "|   FLL|      63|\n",
      "|   MIA|      60|\n",
      "|   TEG|      58|\n",
      "|   HHN|      37|\n",
      "+------+--------+\n",
      "\n"
     ]
    }
   ],
   "source": [
    "spark.sql(\"SELECT Origen, count(1) FROM vw_vuelos WHERE Aerolinea = 8 GROUP BY 1 ORDER BY 2 DESC\").show()"
   ]
  },
  {
   "cell_type": "markdown",
   "id": "08a1ce1f",
   "metadata": {},
   "source": [
    "#### ¿Hacia dónde vuela más la aerolínea 4?"
   ]
  },
  {
   "cell_type": "code",
   "execution_count": 8,
   "id": "a5ce3093",
   "metadata": {},
   "outputs": [
    {
     "name": "stdout",
     "output_type": "stream",
     "text": [
      "+-------+--------+\n",
      "|Destino|count(1)|\n",
      "+-------+--------+\n",
      "|    SAP|     141|\n",
      "|    HAJ|      70|\n",
      "|    MIA|      61|\n",
      "|    FLL|      56|\n",
      "|    HHN|      44|\n",
      "|    TEG|      36|\n",
      "+-------+--------+\n",
      "\n"
     ]
    }
   ],
   "source": [
    "spark.sql(\"SELECT Destino, count(1) FROM vw_vuelos WHERE Aerolinea = 4 GROUP BY 1 ORDER BY 2 DESC\").show()"
   ]
  },
  {
   "cell_type": "markdown",
   "id": "43236a33",
   "metadata": {},
   "source": [
    "#### ¿Qué piloto vuela más?"
   ]
  },
  {
   "cell_type": "code",
   "execution_count": 9,
   "id": "678d44be",
   "metadata": {},
   "outputs": [
    {
     "name": "stdout",
     "output_type": "stream",
     "text": [
      "+---------------+-------------+--------+\n",
      "|         Piloto|Codigo Piloto|count(1)|\n",
      "+---------------+-------------+--------+\n",
      "|   Jonh Pierson|        43579|    1028|\n",
      "|  Peter Mariner|        43580|     937|\n",
      "|Homer Williamns|        43581|     918|\n",
      "|     Joe Hulson|        43576|     505|\n",
      "|   Marie Malful|        43578|     452|\n",
      "|David Colindres|        43559|      51|\n",
      "|    Jorge Mej�a|        43558|      51|\n",
      "| Miriam Willson|        43577|      39|\n",
      "|   Muilin Mills|        43561|      30|\n",
      "|Maximilian Call|        43560|      30|\n",
      "|    Gianni Falk|        43562|      30|\n",
      "| Arthur Maxwell|        43571|      24|\n",
      "| Carlos Miranda|        43572|      24|\n",
      "|  Denis Tercero|        43573|      24|\n",
      "|   Jilles Vlank|        43557|      23|\n",
      "|       John Max|        43556|      23|\n",
      "|     Filg Gills|        43568|      15|\n",
      "|   Charles Moll|        43575|      12|\n",
      "|        Chao Ma|        43565|      12|\n",
      "|   David German|        43574|      12|\n",
      "+---------------+-------------+--------+\n",
      "only showing top 20 rows\n",
      "\n"
     ]
    }
   ],
   "source": [
    "spark.sql(\"\"\"\n",
    "    SELECT p.Piloto, v.`Codigo Piloto`, count(1) \n",
    "    FROM vw_vuelos v\n",
    "    LEFT JOIN vw_pilotos p ON p.`Codigo Piloto` = v.`Codigo Piloto`\n",
    "    GROUP BY 1, 2 \n",
    "    ORDER BY 3 DESC\n",
    "    \"\"\").show()"
   ]
  },
  {
   "cell_type": "markdown",
   "id": "f57d4ca3",
   "metadata": {},
   "source": [
    "# Python"
   ]
  },
  {
   "cell_type": "markdown",
   "id": "9cb56873",
   "metadata": {},
   "source": [
    "#### En primer instancia se deben cargar los archivos vuelos y pilotos a un dataframe"
   ]
  },
  {
   "cell_type": "code",
   "execution_count": 10,
   "id": "1def78ed",
   "metadata": {},
   "outputs": [],
   "source": [
    "df_vuelos = spark.read.format(\"csv\").option(\"header\", \"true\").option(\"inferSchema\", \"true\").load(\"vuelos.csv\")\n",
    "df_pilotos = spark.read.format(\"csv\").option(\"header\", \"true\").option(\"inferSchema\", \"true\").load(\"pilotos.csv\")\n"
   ]
  },
  {
   "cell_type": "code",
   "execution_count": 11,
   "id": "824d6749",
   "metadata": {},
   "outputs": [
    {
     "data": {
      "text/plain": [
       "DataFrame[Codigo Piloto: int, Aerolínea: int, Origen: string, Destino: string, Minutos de retraso: int, OnTime: string]"
      ]
     },
     "execution_count": 11,
     "metadata": {},
     "output_type": "execute_result"
    }
   ],
   "source": [
    "df_vuelos"
   ]
  },
  {
   "cell_type": "code",
   "execution_count": 12,
   "id": "25ddbdb2",
   "metadata": {},
   "outputs": [
    {
     "data": {
      "text/plain": [
       "pyspark.sql.dataframe.DataFrame"
      ]
     },
     "execution_count": 12,
     "metadata": {},
     "output_type": "execute_result"
    }
   ],
   "source": [
    "type(df_vuelos)"
   ]
  },
  {
   "cell_type": "code",
   "execution_count": 13,
   "id": "c49873a6",
   "metadata": {},
   "outputs": [
    {
     "data": {
      "text/plain": [
       "pyspark.sql.dataframe.DataFrame"
      ]
     },
     "execution_count": 13,
     "metadata": {},
     "output_type": "execute_result"
    }
   ],
   "source": [
    "type(df_pilotos)"
   ]
  },
  {
   "attachments": {},
   "cell_type": "markdown",
   "id": "a984b500",
   "metadata": {},
   "source": [
    "#### Agregar en la hoja Vuelos un campo para el nombre del piloto\n",
    "#### Insertar el nombre del piloto"
   ]
  },
  {
   "cell_type": "code",
   "execution_count": 14,
   "id": "8e64dee5",
   "metadata": {},
   "outputs": [],
   "source": [
    "from pyspark.sql.functions import col"
   ]
  },
  {
   "cell_type": "code",
   "execution_count": 15,
   "id": "c61ecbb4",
   "metadata": {},
   "outputs": [],
   "source": [
    "df_vuelos = df_vuelos.withColumnRenamed(\"Aerolínea\",\"Aerolinea\") "
   ]
  },
  {
   "cell_type": "code",
   "execution_count": 16,
   "id": "edd5d31e",
   "metadata": {},
   "outputs": [],
   "source": [
    "df_vuelos = df_vuelos.withColumnRenamed(\"Codigo Piloto\", \"Codigo_Piloto\")"
   ]
  },
  {
   "cell_type": "code",
   "execution_count": 17,
   "id": "9c6c2c2e",
   "metadata": {},
   "outputs": [
    {
     "data": {
      "text/plain": [
       "DataFrame[Codigo_Piloto: int, Aerolinea: int, Origen: string, Destino: string, Minutos de retraso: int, OnTime: string]"
      ]
     },
     "execution_count": 17,
     "metadata": {},
     "output_type": "execute_result"
    }
   ],
   "source": [
    "df_vuelos"
   ]
  },
  {
   "cell_type": "code",
   "execution_count": 18,
   "id": "a2d8407d",
   "metadata": {},
   "outputs": [],
   "source": [
    "df_vuelos = df_vuelos.join(df_pilotos, col(\"Codigo_Piloto\") == col(\"`Codigo Piloto`\"), \"left\")\n"
   ]
  },
  {
   "cell_type": "code",
   "execution_count": 19,
   "id": "45965c6d",
   "metadata": {},
   "outputs": [],
   "source": [
    "df_vuelos = df_vuelos.drop(\"Codigo Piloto\")"
   ]
  },
  {
   "cell_type": "code",
   "execution_count": 20,
   "id": "c339fe41",
   "metadata": {},
   "outputs": [
    {
     "name": "stdout",
     "output_type": "stream",
     "text": [
      "+-------------+---------+------+-------+------------------+------+------------+\n",
      "|Codigo_Piloto|Aerolinea|Origen|Destino|Minutos de retraso|OnTime|      Piloto|\n",
      "+-------------+---------+------+-------+------------------+------+------------+\n",
      "|        43556|       10|   SAP|    HAJ|                40|  null|    John Max|\n",
      "|        43557|        5|   MIA|    MIA|                30|  null|Jilles Vlank|\n",
      "|        43558|        3|   FLL|    FLL|                20|  null| Jorge Mej�a|\n",
      "+-------------+---------+------+-------+------------------+------+------------+\n",
      "only showing top 3 rows\n",
      "\n"
     ]
    }
   ],
   "source": [
    "df_vuelos.show(3)"
   ]
  },
  {
   "cell_type": "code",
   "execution_count": 21,
   "id": "e742895f",
   "metadata": {},
   "outputs": [],
   "source": [
    "df_vuelos.toPandas().to_excel(\"output/b y c.xlsx\", index=False)"
   ]
  },
  {
   "attachments": {},
   "cell_type": "markdown",
   "id": "152f517a",
   "metadata": {},
   "source": [
    "#### Descartar/marcar los registros donde Origen y Destino sean iguales"
   ]
  },
  {
   "cell_type": "code",
   "execution_count": 22,
   "id": "4ccff060",
   "metadata": {},
   "outputs": [],
   "source": [
    "from pyspark.sql.functions import when"
   ]
  },
  {
   "cell_type": "code",
   "execution_count": 23,
   "id": "e444e56e",
   "metadata": {},
   "outputs": [],
   "source": [
    "df_vuelos = df_vuelos.withColumn(\"Marca\", when(df_vuelos.Origen == df_vuelos.Destino, \"x\").otherwise(\"\"))\n"
   ]
  },
  {
   "cell_type": "code",
   "execution_count": 24,
   "id": "b11231e8",
   "metadata": {},
   "outputs": [
    {
     "name": "stdout",
     "output_type": "stream",
     "text": [
      "+-------------+---------+------+-------+------------------+------+------------+-----+\n",
      "|Codigo_Piloto|Aerolinea|Origen|Destino|Minutos de retraso|OnTime|      Piloto|Marca|\n",
      "+-------------+---------+------+-------+------------------+------+------------+-----+\n",
      "|        43556|       10|   SAP|    HAJ|                40|  null|    John Max|     |\n",
      "|        43557|        5|   MIA|    MIA|                30|  null|Jilles Vlank|    x|\n",
      "|        43558|        3|   FLL|    FLL|                20|  null| Jorge Mej�a|    x|\n",
      "+-------------+---------+------+-------+------------------+------+------------+-----+\n",
      "only showing top 3 rows\n",
      "\n"
     ]
    }
   ],
   "source": [
    "df_vuelos.show(3)"
   ]
  },
  {
   "cell_type": "code",
   "execution_count": 25,
   "id": "6794633d",
   "metadata": {},
   "outputs": [],
   "source": [
    "df_vuelos.toPandas().to_excel(\"output/d.xlsx\", index=False)"
   ]
  },
  {
   "attachments": {},
   "cell_type": "markdown",
   "id": "32fbdc78",
   "metadata": {},
   "source": [
    "#### Agregar comentario en ONTIME, si el tiempo en valor absoluto es menor o igual a 30 A, si es esta entre 30 y 50 B, si es mayor que 50 C"
   ]
  },
  {
   "cell_type": "code",
   "execution_count": 26,
   "id": "71e592d4",
   "metadata": {},
   "outputs": [],
   "source": [
    "from pyspark.sql.functions import abs"
   ]
  },
  {
   "cell_type": "code",
   "execution_count": 27,
   "id": "0dbcdb45",
   "metadata": {},
   "outputs": [],
   "source": [
    "df_vuelos = df_vuelos.withColumnRenamed(\"Minutos de retraso\", \"Minutos_de_retraso\")"
   ]
  },
  {
   "cell_type": "code",
   "execution_count": 28,
   "id": "341852f6",
   "metadata": {},
   "outputs": [
    {
     "name": "stdout",
     "output_type": "stream",
     "text": [
      "+-------------+---------+------+-------+------------------+------+---------------+-----+\n",
      "|Codigo_Piloto|Aerolinea|Origen|Destino|Minutos_de_retraso|OnTime|         Piloto|Marca|\n",
      "+-------------+---------+------+-------+------------------+------+---------------+-----+\n",
      "|        43556|       10|   SAP|    HAJ|                40|     B|       John Max|     |\n",
      "|        43557|        5|   MIA|    MIA|                30|     A|   Jilles Vlank|    x|\n",
      "|        43558|        3|   FLL|    FLL|                20|     A|    Jorge Mej�a|    x|\n",
      "|        43559|        1|   TEG|    SAP|                 0|     A|David Colindres|     |\n",
      "|        43560|        1|   HAJ|    SAP|                50|     B|Maximilian Call|     |\n",
      "|        43561|        8|   HHN|    SAP|                20|     A|   Muilin Mills|     |\n",
      "|        43562|        2|   SAP|    HAJ|               -30|     A|    Gianni Falk|     |\n",
      "|        43563|        8|   MIA|    HHN|               -30|     A|       Hous Hih|     |\n",
      "|        43564|       10|   FLL|    SAP|               -30|     A|       Cho Ming|     |\n",
      "|        43565|        7|   TEG|    TEG|                 0|     A|        Chao Ma|    x|\n",
      "|        43566|        4|   HAJ|    HAJ|               -70|     C|     Jos� Perez|    x|\n",
      "|        43567|        6|   HHN|    HHN|               -40|     B|    Davie Mixal|    x|\n",
      "|        43568|        4|   FLL|    SAP|                 0|     A|     Filg Gills|     |\n",
      "|        43569|        9|   TEG|    MIA|                 0|     A|       Hung Cho|     |\n",
      "|        43570|        6|   HAJ|    FLL|               -70|     C|     Filen Filg|     |\n",
      "|        43571|        5|   HHN|    SAP|               -50|     B| Arthur Maxwell|     |\n",
      "|        43572|        1|   SAP|    MIA|                 0|     A| Carlos Miranda|     |\n",
      "|        43573|        5|   MIA|    FLL|                 0|     A|  Denis Tercero|     |\n",
      "|        43556|        2|   FLL|    TEG|               -50|     B|       John Max|     |\n",
      "|        43557|        9|   SAP|    HAJ|                40|     B|   Jilles Vlank|     |\n",
      "+-------------+---------+------+-------+------------------+------+---------------+-----+\n",
      "only showing top 20 rows\n",
      "\n"
     ]
    }
   ],
   "source": [
    "df_vuelos = df_vuelos.withColumn(\"OnTime\", \n",
    "                   when(abs(df_vuelos.Minutos_de_retraso) <= 30, 'A').\n",
    "                   when((abs(df_vuelos.Minutos_de_retraso) > 30) & (abs(df_vuelos.Minutos_de_retraso) <= 50), 'B').\n",
    "                   when(abs(df_vuelos.Minutos_de_retraso) > 50, 'C').otherwise(''))\n",
    "\n",
    "df_vuelos.show()\n"
   ]
  },
  {
   "cell_type": "code",
   "execution_count": 29,
   "id": "f79570d5",
   "metadata": {},
   "outputs": [],
   "source": [
    "df_vuelos.toPandas().to_excel(\"output/e.xlsx\", index=False)"
   ]
  },
  {
   "attachments": {},
   "cell_type": "markdown",
   "id": "6aeafc2f",
   "metadata": {},
   "source": [
    "#### ¿Quién es el piloto que tiene más vuelos A?"
   ]
  },
  {
   "cell_type": "code",
   "execution_count": 30,
   "id": "5cf9dd65",
   "metadata": {},
   "outputs": [],
   "source": [
    "from pyspark.sql.functions import count, desc"
   ]
  },
  {
   "cell_type": "code",
   "execution_count": 31,
   "id": "2d79a0dc",
   "metadata": {},
   "outputs": [],
   "source": [
    "counts = df_vuelos.groupBy(\"Codigo_Piloto\",\"Piloto\").agg(count(\"*\").alias(\"count\"))"
   ]
  },
  {
   "cell_type": "code",
   "execution_count": 32,
   "id": "a0a4074f",
   "metadata": {},
   "outputs": [
    {
     "name": "stdout",
     "output_type": "stream",
     "text": [
      "+-------------+---------------+-----+\n",
      "|Codigo_Piloto|         Piloto|count|\n",
      "+-------------+---------------+-----+\n",
      "|        43579|   Jonh Pierson| 1028|\n",
      "|        43580|  Peter Mariner|  937|\n",
      "|        43581|Homer Williamns|  918|\n",
      "|        43576|     Joe Hulson|  505|\n",
      "|        43578|   Marie Malful|  452|\n",
      "|        43559|David Colindres|   51|\n",
      "|        43558|    Jorge Mej�a|   51|\n",
      "|        43577| Miriam Willson|   39|\n",
      "|        43560|Maximilian Call|   30|\n",
      "|        43561|   Muilin Mills|   30|\n",
      "|        43562|    Gianni Falk|   30|\n",
      "|        43573|  Denis Tercero|   24|\n",
      "|        43572| Carlos Miranda|   24|\n",
      "|        43571| Arthur Maxwell|   24|\n",
      "|        43556|       John Max|   23|\n",
      "|        43557|   Jilles Vlank|   23|\n",
      "|        43568|     Filg Gills|   15|\n",
      "|        43565|        Chao Ma|   12|\n",
      "|        43574|   David German|   12|\n",
      "|        43564|       Cho Ming|   12|\n",
      "+-------------+---------------+-----+\n",
      "only showing top 20 rows\n",
      "\n"
     ]
    }
   ],
   "source": [
    "counts.orderBy(desc(\"count\")).show()"
   ]
  },
  {
   "cell_type": "code",
   "execution_count": 33,
   "id": "38c9b3ff",
   "metadata": {},
   "outputs": [
    {
     "data": {
      "text/plain": [
       "Row(Codigo_Piloto=43579, Piloto='Jonh Pierson', count=1028)"
      ]
     },
     "execution_count": 33,
     "metadata": {},
     "output_type": "execute_result"
    }
   ],
   "source": [
    "counts.orderBy(desc(\"count\")).first()"
   ]
  },
  {
   "cell_type": "code",
   "execution_count": 34,
   "id": "90849002",
   "metadata": {},
   "outputs": [],
   "source": [
    "counts.toPandas().to_excel(\"output/f.xlsx\", index=False)"
   ]
  },
  {
   "attachments": {},
   "cell_type": "markdown",
   "id": "51888eba",
   "metadata": {},
   "source": [
    "#### ¿Qué aerolínea tiene más vuelos C?"
   ]
  },
  {
   "cell_type": "code",
   "execution_count": 35,
   "id": "c984a7ca",
   "metadata": {},
   "outputs": [],
   "source": [
    "df_vuelos_ontime_c = df_vuelos.filter(\"OnTime = 'C'\")"
   ]
  },
  {
   "cell_type": "code",
   "execution_count": 36,
   "id": "42ef5dc8",
   "metadata": {},
   "outputs": [],
   "source": [
    "df_vuelos_ontime_c = df_vuelos_ontime_c.groupBy(\"Aerolinea\").agg(count(\"*\").alias(\"count\"))"
   ]
  },
  {
   "cell_type": "code",
   "execution_count": 37,
   "id": "26ae6904",
   "metadata": {},
   "outputs": [
    {
     "name": "stdout",
     "output_type": "stream",
     "text": [
      "+---------+-----+\n",
      "|Aerolinea|count|\n",
      "+---------+-----+\n",
      "|        7|   78|\n",
      "|        4|   75|\n",
      "|        6|   69|\n",
      "|        5|   69|\n",
      "|        9|   68|\n",
      "|        1|   64|\n",
      "|        3|   60|\n",
      "|        8|   55|\n",
      "|        2|   55|\n",
      "|       10|   46|\n",
      "+---------+-----+\n",
      "\n"
     ]
    }
   ],
   "source": [
    "df_vuelos_ontime_c.orderBy(desc(\"count\")).show()"
   ]
  },
  {
   "cell_type": "code",
   "execution_count": 38,
   "id": "392dee20",
   "metadata": {},
   "outputs": [],
   "source": [
    "df_vuelos_ontime_c.toPandas().to_excel(\"output/g.xlsx\", index=False)"
   ]
  },
  {
   "attachments": {},
   "cell_type": "markdown",
   "id": "03b760b6",
   "metadata": {},
   "source": [
    "#### ¿Para qué aerolínea vuela Hung Cho?"
   ]
  },
  {
   "cell_type": "code",
   "execution_count": 39,
   "id": "a3bf3ef0",
   "metadata": {},
   "outputs": [],
   "source": [
    "df_vuelos_hung_cho = df_vuelos.filter(\"Piloto = 'Hung Cho'\")"
   ]
  },
  {
   "cell_type": "code",
   "execution_count": 40,
   "id": "7007e8d6",
   "metadata": {},
   "outputs": [
    {
     "name": "stdout",
     "output_type": "stream",
     "text": [
      "+-------------+---------+------+-------+------------------+------+--------+-----+\n",
      "|Codigo_Piloto|Aerolinea|Origen|Destino|Minutos_de_retraso|OnTime|  Piloto|Marca|\n",
      "+-------------+---------+------+-------+------------------+------+--------+-----+\n",
      "|        43569|        9|   TEG|    MIA|                 0|     A|Hung Cho|     |\n",
      "|        43569|        4|   TEG|    SAP|               -10|     A|Hung Cho|     |\n",
      "|        43569|        9|   HHN|    TEG|                10|     A|Hung Cho|     |\n",
      "|        43569|        8|   FLL|    TEG|               -20|     A|Hung Cho|     |\n",
      "|        43569|        3|   FLL|    TEG|                10|     A|Hung Cho|     |\n",
      "+-------------+---------+------+-------+------------------+------+--------+-----+\n",
      "\n"
     ]
    }
   ],
   "source": [
    "df_vuelos_hung_cho.show()"
   ]
  },
  {
   "cell_type": "code",
   "execution_count": 41,
   "id": "de87fecd",
   "metadata": {},
   "outputs": [
    {
     "name": "stdout",
     "output_type": "stream",
     "text": [
      "+---------+\n",
      "|Aerolinea|\n",
      "+---------+\n",
      "|        3|\n",
      "|        9|\n",
      "|        4|\n",
      "|        8|\n",
      "+---------+\n",
      "\n"
     ]
    }
   ],
   "source": [
    "df_vuelos_hung_cho.select(\"Aerolinea\").distinct().show()"
   ]
  },
  {
   "cell_type": "code",
   "execution_count": 42,
   "id": "3e51e14e",
   "metadata": {},
   "outputs": [],
   "source": [
    "df_vuelos_ontime_c.toPandas().to_excel(\"output/h.xlsx\", index=False)"
   ]
  },
  {
   "attachments": {},
   "cell_type": "markdown",
   "id": "6c7184b6",
   "metadata": {},
   "source": [
    "#### ¿Cuántos vuelos A, B, C tiene Chao Ma?"
   ]
  },
  {
   "cell_type": "code",
   "execution_count": 43,
   "id": "29a84398",
   "metadata": {},
   "outputs": [],
   "source": [
    "df_vuelos_chao_ma = df_vuelos.filter(\"Piloto = 'Chao Ma'\")"
   ]
  },
  {
   "cell_type": "code",
   "execution_count": 44,
   "id": "8297e29e",
   "metadata": {},
   "outputs": [
    {
     "name": "stdout",
     "output_type": "stream",
     "text": [
      "+-------------+---------+------+-------+------------------+------+-------+-----+\n",
      "|Codigo_Piloto|Aerolinea|Origen|Destino|Minutos_de_retraso|OnTime| Piloto|Marca|\n",
      "+-------------+---------+------+-------+------------------+------+-------+-----+\n",
      "|        43565|        7|   TEG|    TEG|                 0|     A|Chao Ma|    x|\n",
      "|        43565|        1|   HHN|    SAP|               -10|     A|Chao Ma|     |\n",
      "|        43565|        2|   HAJ|    HHN|               -20|     A|Chao Ma|     |\n",
      "|        43565|        8|   HAJ|    MIA|                70|     C|Chao Ma|     |\n",
      "|        43565|        3|   HHN|    HAJ|               -20|     A|Chao Ma|     |\n",
      "|        43565|        4|   TEG|    FLL|               -20|     A|Chao Ma|     |\n",
      "|        43565|        5|   HAJ|    FLL|                 0|     A|Chao Ma|     |\n",
      "|        43565|        5|   MIA|    FLL|                40|     B|Chao Ma|     |\n",
      "|        43565|       10|   MIA|    TEG|               -10|     A|Chao Ma|     |\n",
      "|        43565|        2|   SAP|    HAJ|                10|     A|Chao Ma|     |\n",
      "|        43565|        2|   SAP|    SAP|               -30|     A|Chao Ma|    x|\n",
      "|        43565|        9|   HHN|    HAJ|                60|     C|Chao Ma|     |\n",
      "+-------------+---------+------+-------+------------------+------+-------+-----+\n",
      "\n"
     ]
    }
   ],
   "source": [
    "df_vuelos_chao_ma.show(15)"
   ]
  },
  {
   "cell_type": "code",
   "execution_count": 45,
   "id": "266caa95",
   "metadata": {},
   "outputs": [
    {
     "name": "stdout",
     "output_type": "stream",
     "text": [
      "+------+-----+\n",
      "|OnTime|count|\n",
      "+------+-----+\n",
      "|     B|    1|\n",
      "|     C|    2|\n",
      "|     A|    9|\n",
      "+------+-----+\n",
      "\n"
     ]
    }
   ],
   "source": [
    "df_vuelos_chao_ma.groupBy(\"OnTime\").agg(count(\"*\").alias(\"count\")).show()"
   ]
  },
  {
   "cell_type": "code",
   "execution_count": 46,
   "id": "8f650306",
   "metadata": {},
   "outputs": [],
   "source": [
    "df_vuelos_ontime_c.toPandas().to_excel(\"output/i.xlsx\", index=False)"
   ]
  }
 ],
 "metadata": {
  "kernelspec": {
   "display_name": "Python 3 (ipykernel)",
   "language": "python",
   "name": "python3"
  },
  "language_info": {
   "codemirror_mode": {
    "name": "ipython",
    "version": 3
   },
   "file_extension": ".py",
   "mimetype": "text/x-python",
   "name": "python",
   "nbconvert_exporter": "python",
   "pygments_lexer": "ipython3",
   "version": "3.9.12"
  }
 },
 "nbformat": 4,
 "nbformat_minor": 5
}
